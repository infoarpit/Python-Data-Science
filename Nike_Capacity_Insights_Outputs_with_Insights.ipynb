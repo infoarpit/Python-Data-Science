{
  "cells": [
    {
      "cell_type": "markdown",
      "metadata": {
        "id": "view-in-github",
        "colab_type": "text"
      },
      "source": [
        "<a href=\"https://colab.research.google.com/github/infoarpit/Python-Data-Science/blob/main/Nike_Capacity_Insights_Outputs_with_Insights.ipynb\" target=\"_parent\"><img src=\"https://colab.research.google.com/assets/colab-badge.svg\" alt=\"Open In Colab\"/></a>"
      ]
    },
    {
      "cell_type": "code",
      "source": [],
      "metadata": {
        "id": "TIAAPk0IlBNR"
      },
      "id": "TIAAPk0IlBNR",
      "execution_count": null,
      "outputs": []
    },
    {
      "cell_type": "markdown",
      "id": "45854270",
      "metadata": {
        "id": "45854270"
      },
      "source": [
        "# Nike Capacity Planning Insights – Outputs + Business Insights"
      ]
    },
    {
      "cell_type": "markdown",
      "id": "6ac49717",
      "metadata": {
        "id": "6ac49717"
      },
      "source": [
        "\n",
        "## 1. Dataset Overview (Output)\n",
        "- **Total SKUs:** 229,471  \n",
        "- **Departments:** Men (118,480), Women (65,949), Kids (45,042)  \n",
        "- **Categories:** Clothing (126,535), Shoes (100,570), Accessories & Equipment (2,366)  \n",
        "- **Subcategories:** 29 (e.g., All Clothing, All Shoes, Lifestyle, T-shirts, Sports Clothing)\n",
        "\n",
        "### Insight\n",
        "Nike carries a **very large assortment** with 229k SKUs. Clothing and Shoes dominate, while Accessories are negligible. This high SKU count increases **assortment complexity** and **capacity burden**.\n"
      ]
    },
    {
      "cell_type": "markdown",
      "id": "ba8d2481",
      "metadata": {
        "id": "ba8d2481"
      },
      "source": [
        "\n",
        "## 2. Product Availability (Output)\n",
        "- **In Stock:** 216,377  \n",
        "- **Sold Out:** 12,986  \n",
        "- **Coming Soon:** 108\n",
        "\n",
        "### Insight\n",
        "Over 94% SKUs are in stock, indicating **strong supply continuity**. But 13k sold-out SKUs suggest **potential stockout risks** for certain products, requiring **better demand forecasting**.\n"
      ]
    },
    {
      "cell_type": "markdown",
      "id": "9762a2cb",
      "metadata": {
        "id": "9762a2cb"
      },
      "source": [
        "\n",
        "## 3. Variant Complexity (Output)\n",
        "- **Unique Colors:** 4,281  \n",
        "- **Unique Sizes:** 224  \n",
        "- **Unique Variants:** 86,563\n",
        "\n",
        "### Insight\n",
        "High variant diversity creates **manufacturing and inventory pressure**. Many variants likely have **low demand**, tying up capacity. Nike should **rationalize low-velocity SKUs** to free capacity.\n"
      ]
    },
    {
      "cell_type": "markdown",
      "id": "e7407a2c",
      "metadata": {
        "id": "e7407a2c"
      },
      "source": [
        "\n",
        "## 4. Pricing Insights (Output)\n",
        "- **Range:** Min 6.95 – Max 1,337.90  \n",
        "- **Mean:** ~75.2, Median: 59.95  \n",
        "- **Avg. Discount %:** ~5.9%\n",
        "\n",
        "### Insight\n",
        "Discounting is minimal (~6%), showing Nike’s **premium positioning**. But the wide price range implies **multiple customer segments**: from mass (low-end) to luxury (premium). Pricing strategy can be **cluster-based**.\n"
      ]
    },
    {
      "cell_type": "markdown",
      "id": "1acf8691",
      "metadata": {
        "id": "1acf8691"
      },
      "source": [
        "\n",
        "## 5. Bestseller Insights (Output)\n",
        "- **Bestsellers:** 4,971 (~2.2% of SKUs)  \n",
        "- **By Category:** Shoes (2,853), Clothing (2,060), Accessories (58)\n",
        "\n",
        "### Insight\n",
        "Only 2% of SKUs drive sales, confirming the **Pareto effect**. Shoes dominate bestsellers. Nike should allocate **disproportionate capacity to bestsellers** and streamline the long tail.\n"
      ]
    },
    {
      "cell_type": "markdown",
      "id": "a30e2cab",
      "metadata": {
        "id": "a30e2cab"
      },
      "source": [
        "\n",
        "## 6. Machine Learning Results (Output)\n",
        "- **Logistic Regression:** ~98% accuracy, but poor at predicting bestsellers  \n",
        "- **Random Forest:** ~99% accuracy; Bestsellers precision 0.84, recall 0.67 (F1 = 0.74)  \n",
        "- **Linear Regression (Price prediction):** R² = 0.30, RMSE = 44.8\n",
        "\n",
        "### Insight\n",
        "Random Forest works well for predicting **potential bestsellers**, helping Nike plan **capacity allocation ahead of demand spikes**. Price is partly predictable from attributes, but **brand and trend factors** matter too.\n"
      ]
    },
    {
      "cell_type": "markdown",
      "id": "126db7ae",
      "metadata": {
        "id": "126db7ae"
      },
      "source": [
        "\n",
        "## 7. Clustering (KMeans, 5 clusters) (Output)\n",
        "- **Cluster 1 (Low-end):** Avg Price ~38, ~98k SKUs  \n",
        "- **Cluster 2 (Mid-range):** Avg Price ~60, ~45k SKUs  \n",
        "- **Cluster 0 (Upper-mid):** Avg Price ~132, ~51k SKUs  \n",
        "- **Cluster 4 (Affordable premium):** Avg Price ~85, ~29k SKUs  \n",
        "- **Cluster 3 (Luxury premium):** Avg Price ~258, ~6.5k SKUs (max 1,337.9)\n",
        "\n",
        "### Insight\n",
        "Nike’s assortment naturally segments into **5 pricing tiers**. Capacity strategy should differ by tier:  \n",
        "- **Low-end:** Bulk production, centralized factories  \n",
        "- **Mid-range:** Balanced capacity, high turnover focus  \n",
        "- **Premium/Luxury:** Flexible, small-batch nearshore production  \n",
        "This cluster-based approach prevents **overproduction in luxury** and **stockouts in mass-market**.\n"
      ]
    }
  ],
  "metadata": {
    "colab": {
      "provenance": [],
      "include_colab_link": true
    },
    "language_info": {
      "name": "python"
    },
    "kernelspec": {
      "name": "python3",
      "display_name": "Python 3"
    }
  },
  "nbformat": 4,
  "nbformat_minor": 5
}